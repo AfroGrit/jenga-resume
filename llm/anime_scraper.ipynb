{
 "cells": [
  {
   "cell_type": "code",
   "execution_count": 38,
   "metadata": {},
   "outputs": [],
   "source": [
    "import requests\n",
    "import os\n",
    "import re\n",
    "import json\n",
    "from bs4 import BeautifulSoup\n",
    "import numpy as np\n",
    "import pandas as pd\n",
    "from selenium import webdriver\n",
    "import time\n",
    "import matplotlib.pyplot as plt\n",
    "import urllib\n",
    "%matplotlib inline\n",
    "import pickle\n",
    "from tqdm import tqdm\n"
   ]
  },
  {
   "cell_type": "code",
   "execution_count": 29,
   "metadata": {},
   "outputs": [
    {
     "name": "stdout",
     "output_type": "stream",
     "text": [
      "200\n"
     ]
    }
   ],
   "source": [
    "manga = 'https://myanimelist.net/topmanga.php'\n",
    "\n",
    "headers = {\n",
    "    'Accept-Language': 'en',\n",
    "    'User-Agent': 'Mozilla/5.0 (Windows NT 10.0; Win64; x64) AppleWebKit/537.36 (KHTML, like Gecko) Chrome/58.0.3029.110 Safari/537.3',\n",
    "    'X-FORWARDED-FOR': '2.21.184.0'\n",
    "}\n",
    "\n",
    "response = requests.get(manga, headers=headers)\n",
    "print(response.status_code)"
   ]
  },
  {
   "cell_type": "code",
   "execution_count": 30,
   "metadata": {},
   "outputs": [],
   "source": [
    "mangasoup = BeautifulSoup(response.text, \"lxml\")"
   ]
  },
  {
   "cell_type": "code",
   "execution_count": 32,
   "metadata": {},
   "outputs": [
    {
     "data": {
      "text/plain": [
       "'?limit=50'"
      ]
     },
     "execution_count": 32,
     "metadata": {},
     "output_type": "execute_result"
    }
   ],
   "source": [
    "mangasoup.find_all('a', attrs={'class': 'next'})[0]['href']"
   ]
  },
  {
   "cell_type": "code",
   "execution_count": 33,
   "metadata": {},
   "outputs": [],
   "source": [
    "  \n",
    "def get_links_to_movies(soup):\n",
    "    h3s = soup.find_all('h3', attrs={'class': \"manga_h3\"})\n",
    "    movie_links = {el.find('a').text: el.find('a')['href'] for el in h3s}\n",
    "    return movie_links    "
   ]
  },
  {
   "cell_type": "code",
   "execution_count": 34,
   "metadata": {},
   "outputs": [],
   "source": [
    "def get_link_to_next_page(soup):\n",
    "    links = soup.find_all('a', attrs={'class': 'next'})\n",
    "    if len(links) == 0:\n",
    "        return None\n",
    "    else:\n",
    "        link = links[0]['href']\n",
    "        return link"
   ]
  },
  {
   "cell_type": "code",
   "execution_count": 39,
   "metadata": {},
   "outputs": [],
   "source": [
    "\n",
    "def get_all_links(url, max_links=30000):\n",
    "    headers = {\n",
    "        'Accept-Language': 'en',\n",
    "        'User-Agent': 'Mozilla/5.0 (Windows NT 10.0; Win64; x64) AppleWebKit/537.36 (KHTML, like Gecko) Chrome/58.0.3029.110 Safari/537.3',\n",
    "        'X-FORWARDED-FOR': '2.21.184.0'\n",
    "    }\n",
    "    \n",
    "    all_movies_links = {}\n",
    "    \n",
    "    # Initialize tqdm progress bar\n",
    "    pbar = tqdm(total=max_links, desc=\"Collecting movie links\")\n",
    "    \n",
    "    while True:\n",
    "        response = requests.get(url, headers=headers)\n",
    "        assert response.status_code == 200\n",
    "        soup = BeautifulSoup(response.text, 'html.parser')\n",
    "        movie_links = get_links_to_movies(soup)\n",
    "        movie_links = {movie: urllib.parse.urljoin(url, movie_link) for (movie, movie_link) in movie_links.items()}\n",
    "        \n",
    "        new_links_count = len(movie_links)\n",
    "        all_movies_links.update(movie_links)\n",
    "        \n",
    "        # Update progress bar\n",
    "        pbar.update(min(new_links_count, max_links - pbar.n))\n",
    "        \n",
    "        if len(all_movies_links) >= max_links:\n",
    "            pbar.close()\n",
    "            print(f'Reached {max_links} links. Stopping.')\n",
    "            return dict(list(all_movies_links.items())[:max_links])\n",
    "        \n",
    "        link = get_link_to_next_page(soup)\n",
    "        if not link:\n",
    "            pbar.close()\n",
    "            return all_movies_links\n",
    "        url = urllib.parse.urljoin(url, link)\n",
    "        time.sleep(1)\n"
   ]
  },
  {
   "cell_type": "code",
   "execution_count": 40,
   "metadata": {},
   "outputs": [
    {
     "name": "stderr",
     "output_type": "stream",
     "text": [
      "Collecting movie links: 100%|██████████| 30000/30000 [28:41<00:00, 17.42it/s]"
     ]
    },
    {
     "name": "stdout",
     "output_type": "stream",
     "text": [
      "Reached 30000 links. Stopping.\n"
     ]
    },
    {
     "name": "stderr",
     "output_type": "stream",
     "text": [
      "\n"
     ]
    }
   ],
   "source": [
    "\n",
    "all_manga_links = get_all_links(manga)"
   ]
  },
  {
   "cell_type": "code",
   "execution_count": 42,
   "metadata": {},
   "outputs": [],
   "source": [
    "with open('all_manga_links', 'wb') as f:\n",
    "    pickle.dump(all_manga_links, f)"
   ]
  },
  {
   "cell_type": "code",
   "execution_count": 45,
   "metadata": {},
   "outputs": [
    {
     "data": {
      "text/plain": [
       "'https://myanimelist.net/manga/1303/Ashita_no_Joe'"
      ]
     },
     "execution_count": 45,
     "metadata": {},
     "output_type": "execute_result"
    }
   ],
   "source": [
    "all_manga_links['Ashita no Joe']"
   ]
  },
  {
   "cell_type": "markdown",
   "metadata": {},
   "source": [
    "get an example and scrap per page"
   ]
  },
  {
   "cell_type": "code",
   "execution_count": 54,
   "metadata": {},
   "outputs": [
    {
     "name": "stdout",
     "output_type": "stream",
     "text": [
      "200\n"
     ]
    }
   ],
   "source": [
    "Ashita = requests.get('https://myanimelist.net/manga/1303/Ashita_no_Joe', headers=headers)\n",
    "print(Ashita.status_code)\n",
    "ashita_soup = BeautifulSoup(Ashita.text)"
   ]
  },
  {
   "cell_type": "code",
   "execution_count": 60,
   "metadata": {},
   "outputs": [
    {
     "data": {
      "text/plain": [
       "'Ashita no Joe: Fighting for Tomorrow'"
      ]
     },
     "execution_count": 60,
     "metadata": {},
     "output_type": "execute_result"
    }
   ],
   "source": [
    "# title in english\n",
    "ashita_soup.find('span', attrs={'class': 'title-english'}).text"
   ]
  },
  {
   "cell_type": "code",
   "execution_count": 56,
   "metadata": {},
   "outputs": [
    {
     "data": {
      "text/plain": [
       "\"Joe Yabuki has learned how to toughen up and stop trusting others after a troubling youth spent bouncing between orphanages and fending off bullies. After finally escaping the cycle of violent temporary homes, Joe adopts a delinquent lifestyle in the streets of San'ya, a slum in Tokyo. He makes his way through the world with his fists, picking fights with anyone he pleases.\\n\\r\\nDanpei Tange, a washed-up and alcoholic former boxing coach, notices Joe's animalistic combat ability and attempts to mentor the wild teenager. Despite developing an explosive relationship, the two form a close bond and rely on each other to look after the other homeless children in San'ya.\\n\\r\\nUnable to abandon his destructive habits, Joe is arrested for petty crimes. In jail, he meets and fights with lifelong friends and rivals, including the boxing prodigy Tooru Rikiishi. Continuously challenging Rikiishi to fights, Joe is knocked out time after time due to his savage brawling style failing in the face of Rikiishi's controlled boxing technique. But eventually, Joe stuns his rival with a knockout blow, earning Rikiishi's respect and the promise that they will one day meet again inside the professional ring.\\n\\r\\nFinding a reason to live within boxing, Joe takes life head-on with a new purpose. As he rises through Japan's amateur and professional boxing scenes, he contends with painful loss and increasing injury. Joe's passion for fighting is all-consuming, and he grapples with the idea that a life without boxing may not be one worth living.\\n\\r\\n[Written by MAL Rewrite]\""
      ]
     },
     "execution_count": 56,
     "metadata": {},
     "output_type": "execute_result"
    }
   ],
   "source": [
    "# description\n",
    "ashita_soup.find('span', attrs={'itemprop': 'description'}).text"
   ]
  },
  {
   "cell_type": "code",
   "execution_count": 79,
   "metadata": {},
   "outputs": [
    {
     "data": {
      "text/plain": [
       "\"\\n        Simply put, Ashita no Joe is nothing short of a timeless masterpiece of a manga. This really is likely to be one of the greatest manga creations that has ever been created as well as one of the greatest that will ever be created. In every single medium, whether it be in literature, film or anything else for that matter, there are a select few creations that manage to transcend the media in and off itself and become something truly epic, truly beautiful and truly classic. Ashita no Joe manages to pull of this staggering feat. It manages to go far beyond being just another\\n                  ...\\ninspirational story about one scrappy young lad's rise to the top of his particular sport. Ashita no Joe is a grand story about the entire life of it's main character, poignantly detailing all of the excruciating pain and suffering, expressing every thought and every action with moving and genuinely emotional realism. It is for this reason that anyone with even a modicum of admiration to the thing that we call manga owes it to themselves to check out this series at one point or another.\\n\\r\\nIt wouldn't exactly be wrong to say that the story of Ashita no Joe starts out in a fairly cliche way. The protagonist of this sports manga starts life as some no name punk who wanders around the streets as he has no place to belong but then that all changes when he comes across Danpei Tange who is a failed boxing coach turned drunkard who spots Joe's innate boxing talent and proclaims that with his training Joe's fists will someday conquer the boxing world. While this may sound similar to things you may have seen in other series it must be remembered that Ashita no Joe is one of the pioneers for the genre and that most of those other series are actually just inspired in one way or another by this series.\\n\\r\\nThis being a sporting based series the plot has that tendency to progress in a very predictable manner. There's a fight announced, a rivalry develops, the two rivals finally square of in the ring and after the fight ends the cycle begins once more, but I would just like to say that the plot in the series is really anything but conventional. There are many unexpected plot twists and I can guarantee that certain events in this story will simply leave your mouth agape and you'll find yourself nearly paralyzed by the shock of what you've just read, yes really, things really are that intense in this manga.\\n\\r\\nUnlike many other manga series that come under the category of sports, Ashita no Joe is not exactly a cheerful or uplifting series. At points it's very brooding, the atmosphere is dark and serious and often sombre and melancholic. This series takes itself seriously and the story of Ashita no Joe is a very serious one. The heavy tone of this series separates it from others and is very important in getting across the importance of the story and the severity of life as a boxer as well as life in general.\\n\\r\\nWhile structurally speaking the story of Ashita no Joe may be described as being simplistic the delivery of said story is terrific, the plot is rock solid, the interactions between characters is deep, insightful and meaningful and the progression of the story is without a single flaw. But what I really think sets Ashita no Joe apart from other similar series is how the writer's message transcends the sport of boxing entirely. This is a story about one man's life and his struggles and this is what makes the core of the story and it's the messages that can be found within that makes this story nothing short of masterful.\\n\\r\\nMoving on to the thing that connects everything and brings the story to life for the readers; the characters. The characters in Ashita no Joe are spectacular to say the least. Let's begin with the main character, the wild brawler Joe Yabuki. Joe starts life as little more than a piece of human garbage drifting through the slums of Tokyo. Nothing but a wretched orphan that cares for nothing but himself, a prankster that gets his kicks from making the lives of those around him a misery, a rebel that goes against everything that modern society stands for. A directionless punk with no prospects, Joe would have simply wasted away if it wasn't for the interference of the stubborn Tange who would do literally anything within his power to turn Joe into a boxer. Joe's life as a street punk eventually comes to an end when his actions finally catch up to him and he's thrown into juvie. Within the confined space Joe's  only salvation was the boxing training he received from Tange that kept him going.\\n\\r\\nJoe's passion for boxing was then finally ignited once and for all once he met his greatest rival, Rikiishi. Riikishi, while also spending time in the correctional facility was the complete opposite of Joe. He was a fine upstanding man that was destined to become a great boxer. And well it's at this point that you could say the story really starts. From this point Joe Yabuki, the wild beast that defies the very logic of the world of boxing begins to charge forward recklessly, never letting anyone interfere, never letting anyone stand in his way, never once compromising, never going against his principles as a man, even if it would lead to his own destruction, Joe lashes out against his opponent who stands on the other side of the ring.\\n\\r\\nThere are many characters in this series that I'd like to talk about in depth but I feel as though I shouldn't because I feel like I'd be spoiling things for those who've yet to read the series, so I'm just going to tell you flat, the cast of characters in this series are magnificent and are one of the many, many things that make the series so great.\\n\\r\\nNow, I suppose many people who are thinking about reading this are probably being put off because it's too old and the artwork may not be up to the standard of more modern series. But frankly speaking the artwork is great. Granted the designs of the characters are outdated but the actual level of expression in the faces surpasses many modern series and also the level of detail put into the background goes far beyond most anything you see these days. Also the fight scenes are all brilliant to read. While initially the artwork may be a tad polarizing, all you need to do is get accustomed to it, so just give it a chance.\\n\\r\\nThe enjoyment factor in this series is a little difficult to sum up. This story is very heavy and it doesn't hold any punches. At times it is very emotive and at times you'll just feel bad and depressed once you finished a volume but that is really the strongest point of the series. It never set out to be a happy story in the first place. It's an emotive story that will take you on an emotional rollercoaster ride. And it's exactly because of the nature of this story that it is just so much more impactful than damn near anything I've ever read.\\n\\r\\nSo if you are still wondering whether or not you should read Ashita no Joe then let me just say yes definitely. I mean don't even finish this review, just go read it right now. If you're worried about not having enough knowledge about boxing then that really isn't a problem. Personally I only watch boxing a couple of times a year. I'm definitely no expert and yet I had no difficulty with this series.\\n\""
      ]
     },
     "execution_count": 79,
     "metadata": {},
     "output_type": "execute_result"
    }
   ],
   "source": [
    "# take 1 review\n",
    "ashita_soup.find_all('div', attrs={'class': 'text'})[3].text"
   ]
  },
  {
   "cell_type": "code",
   "execution_count": 80,
   "metadata": {},
   "outputs": [
    {
     "data": {
      "text/plain": [
       "\"\\n        While I have this rated as a 10, I truly think it's a 9.5/10.\\n\\r\\nThe story of Ashita no Joe is absolutely phenomenal, there's not a lot more that can be said.\\n\\r\\nJoe as a man and his fights encompass almost everything that I find interesting about boxing and life in general. His fight with Rikishi haunting him forever was amazing, but I truly think that his fight against Mendoza was where Joe culminated and peaked, with a close second being his fight against Carlos. Joe is everything that tomorrow is.\\n\\r\\nThe ONLY thing that I have a problem with, is that I think the start is a\\n                  ...\\nlittle slow, I didn't care too much for volume 2 and the first half of volume 3 as the juvie arc was a little boring. and the second complaint is that I feel as if youko being interested in yabuki is a forced dynamic for the magazine that doesn't come naturally. But genuinely, everything else is perfect. I love Ashita no Joe.\\n\""
      ]
     },
     "execution_count": 80,
     "metadata": {},
     "output_type": "execute_result"
    }
   ],
   "source": [
    "# take 2 review\n",
    "ashita_soup.find_all('div', attrs={'class': 'text'})[4].text"
   ]
  },
  {
   "cell_type": "code",
   "execution_count": 81,
   "metadata": {},
   "outputs": [
    {
     "data": {
      "text/plain": [
       "'\\n        I considered not writing a review for Ashita no Joe, as I didn\\'t finish it.  I didn\\'t finish JoJo\\'s Bizzare Adventure and don\\'t feel I can meaningfully review it at this time.  But for Ashita no Joe, if I can assist one person in making a decision on this manga, maybe that\\'ll be worth it. \\n\\r\\nI came into this manga because many people bring it up when discussing Hajime No Ippo, but after trying to read it, I\\'m just so disappointed in the series, that I wonder why the comparisons are made. \\n\\r\\nThere\\'s two big problems I have with Ashita no Joe that\\n                  ...\\nhave made it impossible to go on.  \\n\\r\\nThe first is the art style, it feels like it\\'s a comic strip style that was popular in America in the 1960s and 1970s, I often thought of the comic script Nancy for some reason.  When I think of Manga I usually think of a refined art style that feels impressive, and Ashita no Joe is absolutely not in that style.   It\\'s a cheap exaggerated art style that works great when watching a cartoon like Popeye, but in a manga it just doesn\\'t feel like the quality bar has been hit.  \\n\\r\\nThe thing is after reading 300 pages of this art, I just realized I was absolutely not enjoying it.  But that would be ok except for the other problem. \\n\\r\\nThe second issue is that Joe is not likable.  About half way through the first volume I thought \"ok, I start to see Joe turning around.\"  and then he just goes back to doing \"Bad things\"...  Actually let me take a moment, because that\\'s a  third problem. \\n\\r\\nThe writing in the version of the manga I read was laughably bad.  Multiple police officers accused Joe of doing \"bad things\".  Not crimes, not specific acts, just generic \"bad things\".  The juvenile writing really drags down what could be an interesting story.  And the thing is there\\'s numerous points where the writing just seems to lack the emotion.  Again, this could be a translation error but I wonder if this was written for a more childish audience.\\n\\r\\nWhich brings us back to the problem with Joe.  It\\'s not that Joe couldn\\'t be a good character, or can\\'t become a great character, but with the exaggerated art style, and a character who it\\'s hard to root for, I\\'m not sure if I wanted to continue, actually I wasn\\'t sure at the end of the first Volume, after half of the second, I decided I was over the story and character.  Joe was just not likable enough to continue but worse, he had every negative trait to make people hate him.  While that\\'s part of the point of being a scarred child who grew up in rough times, I decided to give up on Joe, where as his eventual coach clearly didn\\'t want to.\\n\\r\\nPerhaps I was expecting something that the manga is not.  I wanted a manga about boxing.  I\\'ve heard people call this a \"Character study\" but the thing is... Joe as a character was poorly written,  the story did itself no favors, but the art style really didn\\'t make me interested in the study as well. \\n\\r\\nI know this is a very highly rated manga, but for the life of me I\\'m not sure why.  And the thing is at this point, I\\'m not sure I\\'m interested enough to find out.\\n\\r\\nPs. I know this is currently the only negative review of 21 reviews for this.  If you are upset by this, I recommend leaving your own positive review, or leaving a reaction.  However commenting on my profile because you disagree is unnecessary, because ultimately this is written as a personal log of my opinion on the manga, not a discussion that needs to be had where you have to change someone else\\'s opinion or review.  A review is a PERSONAL OPINION and as such people\\'s PERSONAL OPINION\\'S likely differ from your PERSONAL OPINION.\\n\\r\\nI\\'m sorry, people have sent me despicable responses, harassed me off the site because they disagree, and resorted to name calling, so I feel like I MUST point out that this is unacceptable behavior.  If you have a different PERSONAL OPINION than me, tell other people.  I honestly have never cared what your opinion of my opinion is.\\n'"
      ]
     },
     "execution_count": 81,
     "metadata": {},
     "output_type": "execute_result"
    }
   ],
   "source": [
    "# take 3 review\n",
    "ashita_soup.find_all('div', attrs={'class': 'text'})[5].text"
   ]
  },
  {
   "cell_type": "code",
   "execution_count": 193,
   "metadata": {},
   "outputs": [],
   "source": [
    "\n",
    "def get_manga_text(manga_soup):\n",
    "    # Get title\n",
    "    # title = manga_soup.find('span', attrs={'class': 'title-english'})\n",
    "    title = manga_soup.find('span', attrs={'itemprop': 'name'})\n",
    "    title = title.get_text(strip=True) if title else np.nan\n",
    "\n",
    "    # Get description\n",
    "    description = manga_soup.find('span', attrs={'itemprop': 'description'})\n",
    "    description = description.get_text(strip=True) if description else np.nan\n",
    "\n",
    "    # Get the 4th review (index [3]) if it exists\n",
    "    reviews = manga_soup.find_all('div', attrs={'class': 'text'})\n",
    "    review_1 = reviews[3].get_text(strip=True) if len(reviews) > 3 else np.nan\n",
    "\n",
    "    return [title, description, review_1]\n"
   ]
  },
  {
   "cell_type": "code",
   "execution_count": 194,
   "metadata": {},
   "outputs": [],
   "source": [
    "def get_all_manga_text(all_manga_links, verbose=False):\n",
    "    columns = ['title', 'description', 'review_1']\n",
    "    data = []\n",
    "    done = 0\n",
    "    start = time.time()\n",
    "\n",
    "    for movie, url in all_manga_links.items():\n",
    "        try:\n",
    "            response = requests.get(url, headers=headers)\n",
    "            if response.status_code == 200:\n",
    "                soup = BeautifulSoup(response.text, 'html.parser')\n",
    "                movies_stat = get_manga_text(soup)\n",
    "            else:\n",
    "                movies_stat = [np.nan] * 3\n",
    "\n",
    "            data.append(movies_stat)\n",
    "\n",
    "            if verbose:\n",
    "                done += 1\n",
    "                elapsed_time = time.time() - start\n",
    "                print(f'Done with {done} out of {len(all_manga_links)}. Time spent: {elapsed_time:.1f} seconds')\n",
    "\n",
    "            # Pause between requests to avoid hitting rate limits\n",
    "            time.sleep(1 if response.status_code == 200 else 2)\n",
    "\n",
    "        except requests.RequestException as e:\n",
    "            print(f\"Request failed for URL: {url}, Error: {e}\")\n",
    "            data.append([np.nan] * 3)\n",
    "            time.sleep(2)  # Shorter sleep for failed requests\n",
    "\n",
    "    # Create DataFrame once the data is gathered\n",
    "    return pd.DataFrame(data=data, columns=columns)\n"
   ]
  },
  {
   "cell_type": "code",
   "execution_count": 195,
   "metadata": {},
   "outputs": [
    {
     "name": "stdout",
     "output_type": "stream",
     "text": [
      "Done with 1 out of 3. Time spent: 1.6 seconds\n",
      "Done with 2 out of 3. Time spent: 4.1 seconds\n",
      "Done with 3 out of 3. Time spent: 7.5 seconds\n"
     ]
    }
   ],
   "source": [
    "temp = {}\n",
    "for movie in list(all_manga_links.keys())[:3]:\n",
    "    temp[movie] = all_manga_links[movie]\n",
    "\n",
    "data = get_all_manga_text(temp, verbose=1)"
   ]
  },
  {
   "cell_type": "code",
   "execution_count": 199,
   "metadata": {},
   "outputs": [
    {
     "data": {
      "text/plain": [
       "\"Story - 9.38The first three volumes may discourage some of the readers because it's starts off kind of slow and the initial artwork is not quite up to today's standards. However, after the reader begins the Golden Age arc it is nearly impossible to not be pulled in and become addicted to the series. It is chock-full of action, drama, character development, twists and turns, and just a dash of romance. It defies generalization and is just damn good storytelling.After the Gold Age arc wraps up the story come back full circle to where it left us at the end of volume 3. But by...then the rhythm of the manga has changed completely. The reader has established a deep connection with Guts, Casca, and Griffith and that only grows more as the story continues. You'll be confronted with conflicting emotions and think things like &quot;I really want to see Guts put Griffith in the ground&quot; and at the same time &quot;Griffith is just so damn cool&quot;. These conflicting thoughts and emotions just go to show how invested the reader becomes with the characters.Another good thing about the Berserk story is that the protagonist (Guts) is not always the focal character in every chapter. In fact, nearly all of the major supporting cast members receive a considerable amount of page space for their own stories to be fleshed out. Each of these side-stories is not only unique and extremely well developed, but also very deep and revealing as it shows the reader why these character are the way they are. One of the side stories that I found most intriguing was Farnese and Serpico's as it was so beautifully orchestrated as part of the manga as a whole.The only problem with the story, in my humble opinion, is the introduction of magic in the manga. I feel that the magic the group &quot;acquires&quot; in volume 24 is somewhat exaggerated and does not suit the dark atmosphere of the story. In fact, at times it can even make some of the chapters feel a bit shounen-esk. But even still, it's pretty much impossible not to enjoy the ongoing story that is Berserk.Art - 9.6The artwork in the first few volumes of Berserk won't do much to impress many of today's manga readers, but at the time when the series was first serialized (1992) it was certainly well above average. Those initial volumes feature many very unique character designs (especially the apostles) and also sport a relatively high focus on detail. However, where Miura really shows off his latent artistic talents early on is through his ability to create crisp, clear, and highly fluid fight scenes.One of the few negative aspects of the early volumes can be identified as the simple shading techniques that Miura used. Also, sometimes the character faces will look just a bit &quot;off&quot; and it can be a little distracting. However, these minor quality issues were most likely due to the time constraints that were in place at the time and not entirely the fault of the artist.Then as the series progresses the reader gets to watch the artwork literally evolve. As we learn more and more about the characters and the world in which they live, the characters themselves and their environments become more and more visually detailed. The simple shading from the early volumes is eventually replaced by a hand shading technique which gives the series a more gritty and surreal overall feeling. The character designs become more crisp and facial expressions sometimes are so vivid that one look at a character's face is often enough to tell the reader exactly what the character is thinking. By the time the reader makes it into volumes 20 and beyond Miura has made it very clear that he means for Berserk to be truly regarded as a work of art just as much as it is a masterfully epic piece of storytelling.In my own experience I have seen very, very few other manga series that can even approach Berserk's later volumes on an artistic level and, unfortunately, I highly doubt that I will ever be able to find its peer.Characters - 9.5The very first character you will meet in Berserk is Guts, the &quot;Black Swordsman&quot; with a dark past and a score to settle with his demonic enemies. Certainly not a very revolutionary character at first glance, but even though he may start off as such, his character quickly expands, and ends up as one of the most believable and human characters I have ever witnessed.As the story unwinds, you follow Guts through his past, allowing you to experience his personality change during his constant battle against fate. You follow Guts through waves of despair and hardships offset only by the flickering fires of friendship and trust. Eventually, Guts becomes like a maelstrom of opposing emotions, and the question arises, will he continue on his path of all-consuming revenge even if it means losing everything he has come to care for?The other characters that appear throughout the course of the story come in all different shapes and sizes and all play their roles perfectly, just as support characters should. The more important support characters, protagonists and antagonists alike, are all draped in many layers of depth, making their characters both solid pillars and interesting ingredients within the plot as a whole. From Griffith's burning ambition to the skulduggery of the God Hand, from Puck and Isidro's antics to Farnese's troubled past and uncertain future, the characters all appear vivid and alive (Although alive might not fit The Skull Knight...) and all have their own emotions, personalities and ambitions. The supportive cast show their brilliance in how they appear to the reader as actual players in Berserk's grand game, and not just as passive plot devices.With such a cast of strong personalities and vibrant, living characters, Berserk easily cuts it's way (no pun intended) to the top score in this category.Enjoyment - 10The fact that I sat and read through all 295 chapters of this exquisite manga in one sitting should justify the perfect score for enjoyment! The manga has great characters - heroes you root for and empathize with, villains you can't help but admire for their ruthlessness and charisma. The artwork is dark, brooding, and gruesome and complements the story well. And what a riveting story it is... It hooks you from the first chapter and sets the stage for the most intriguing revenge themed manga on the market. Its success is testament to its quality. My only complaint is the excruciating waits between chapters.Also, I must throw in a cautionary note: this manga is quite definitely not for the faint hearted. There is a considerable amount nudity, sex, gore, violence, and, for the lack of a better word, bad-assery!OVERALL - 9.69This review is the final result of a review team composed of members from the &quot;Critics and Connoisseurs&quot; club.  The team members were:8GaugeBrett - Who wrote the Art section and combined the individual review parts together into a whole.Amaity - Who wrote the Enjoyment section.Baman - Who wrote the Character section.Ianmessku - Who wrote the Story section.Here are their individual scorings for the Manga:Category - 8GaugeBrett, Amaity, Baman, IanmesskuStory -  9, 10, 9, 9.5Art -  10, 9, 10, 9.5Character -  9, 9 , 10, 10Enjoyment -  10, 10, 10, 10Overall - 10, 9, 10, 9.75In the club wide poll held for Berserk it received an average overall rating of 9.53\""
      ]
     },
     "execution_count": 199,
     "metadata": {},
     "output_type": "execute_result"
    }
   ],
   "source": [
    "data.review_1[0]"
   ]
  },
  {
   "cell_type": "code",
   "execution_count": null,
   "metadata": {},
   "outputs": [],
   "source": []
  },
  {
   "cell_type": "code",
   "execution_count": null,
   "metadata": {},
   "outputs": [],
   "source": []
  }
 ],
 "metadata": {
  "kernelspec": {
   "display_name": "resume",
   "language": "python",
   "name": "python3"
  },
  "language_info": {
   "codemirror_mode": {
    "name": "ipython",
    "version": 3
   },
   "file_extension": ".py",
   "mimetype": "text/x-python",
   "name": "python",
   "nbconvert_exporter": "python",
   "pygments_lexer": "ipython3",
   "version": "3.12.2"
  }
 },
 "nbformat": 4,
 "nbformat_minor": 2
}
