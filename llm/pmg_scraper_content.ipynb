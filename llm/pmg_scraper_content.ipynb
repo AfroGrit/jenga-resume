{
 "cells": [
  {
   "cell_type": "code",
   "execution_count": 1,
   "metadata": {},
   "outputs": [],
   "source": [
    "import requests\n",
    "import os\n",
    "import re\n",
    "import json\n",
    "from bs4 import BeautifulSoup\n",
    "import numpy as np\n",
    "import pandas as pd\n",
    "from selenium import webdriver\n",
    "import time\n",
    "import matplotlib.pyplot as plt\n",
    "import urllib\n",
    "%matplotlib inline\n",
    "from datetime import date\n",
    "\n",
    "from selenium import webdriver\n",
    "from selenium.webdriver.common.by import By\n",
    "from selenium.webdriver.chrome.service import Service\n",
    "from selenium.webdriver.support.ui import WebDriverWait\n",
    "from selenium.webdriver.support import expected_conditions as EC\n",
    "\n",
    "from bs4 import BeautifulSoup\n",
    "import time\n"
   ]
  },
  {
   "cell_type": "code",
   "execution_count": 2,
   "metadata": {},
   "outputs": [
    {
     "name": "stderr",
     "output_type": "stream",
     "text": [
      "The chromedriver version (128.0.6613.137) detected in PATH at /opt/homebrew/bin/chromedriver might not be compatible with the detected chrome version (129.0.6668.100); currently, chromedriver 129.0.6668.100 is recommended for chrome 129.*, so it is advised to delete the driver in PATH and retry\n"
     ]
    }
   ],
   "source": [
    "\n",
    "# Setup the ChromeDriver with a valid User-Agent\n",
    "options = webdriver.ChromeOptions()\n",
    "options.add_argument('--headless')  # Optional, to run in headless mode\n",
    "options.add_argument('--no-sandbox')\n",
    "options.add_argument('--disable-dev-shm-usage')\n",
    "\n",
    "\n",
    "# Set a valid User-Agent header\n",
    "user_agent = \"Mozilla/5.0 (Windows NT 10.0; Win64; x64) AppleWebKit/537.36 (KHTML, like Gecko) Chrome/58.0.3029.110 Safari/537.3\"\n",
    "options.add_argument(f'user-agent={user_agent}')\n",
    "\n",
    "driver = webdriver.Chrome(options=options)\n",
    "\n",
    "headers = {\n",
    "    'Accept-Language': 'en',\n",
    "    'User-Agent': 'Mozilla/5.0 (Windows NT 10.0; Win64; x64) AppleWebKit/537.36 (KHTML, like Gecko) Chrome/58.0.3029.110 Safari/537.3',\n",
    "    'X-FORWARDED-FOR': '2.21.184.0'\n",
    "}"
   ]
  },
  {
   "cell_type": "code",
   "execution_count": 3,
   "metadata": {},
   "outputs": [],
   "source": [
    "pmg = 'https://pmg.org.za/question_replies/'"
   ]
  },
  {
   "cell_type": "code",
   "execution_count": 4,
   "metadata": {},
   "outputs": [
    {
     "name": "stdout",
     "output_type": "stream",
     "text": [
      "200\n"
     ]
    }
   ],
   "source": [
    "response = requests.get(pmg, headers=headers)\n",
    "print(response.status_code)"
   ]
  },
  {
   "cell_type": "code",
   "execution_count": 5,
   "metadata": {},
   "outputs": [],
   "source": [
    "# pmg_soup = BeautifulSoup(response.text, 'html.parser')"
   ]
  },
  {
   "cell_type": "code",
   "execution_count": null,
   "metadata": {},
   "outputs": [],
   "source": []
  },
  {
   "cell_type": "code",
   "execution_count": 6,
   "metadata": {},
   "outputs": [],
   "source": [
    "# def safe_extract(soup, selector, attribute, default=np.nan):\n",
    "#         \"\"\"Helper function to extract text from a BeautifulSoup tag safely.\"\"\"\n",
    "#         element = soup.find(selector, attribute)\n",
    "#         return element.get_text(strip=True) if element else default\n",
    "\n",
    "\n",
    "# # Helper function to extract text from multiple <p> tags within a specific div\n",
    "# def safe_extract_multiple(soup, parent_selector, parent_attribute, child_selector='p'):\n",
    "#     \"\"\"Helper function to extract text from multiple <p> tags safely inside a parent container.\"\"\"\n",
    "#     parent_element = soup.find(parent_selector, parent_attribute)\n",
    "#     if parent_element:\n",
    "#         child_elements = parent_element.find_all(child_selector)\n",
    "#         return [element.get_text(strip=True) for element in child_elements]\n",
    "#     return []\n",
    "\n"
   ]
  },
  {
   "cell_type": "code",
   "execution_count": null,
   "metadata": {},
   "outputs": [],
   "source": []
  },
  {
   "cell_type": "code",
   "execution_count": 7,
   "metadata": {},
   "outputs": [],
   "source": [
    "def fetch_soup(pmg_url, headers):\n",
    "    \"\"\"\n",
    "    Fetch the content of a URL (base URL + movie link) and return a BeautifulSoup object.\n",
    "\n",
    "    Args:\n",
    "        base_url (str): The base URL (e.g., 'https://www.imdb.com/').\n",
    "        movie_link (str): The relative URL or path to the movie page.\n",
    "        headers (dict): Headers to be used in the HTTP request.\n",
    "\n",
    "    Returns:\n",
    "        BeautifulSoup: Parsed HTML content of the page if successful, else None.\n",
    "    \"\"\"\n",
    "    \n",
    "\n",
    "    # Fetch the page content\n",
    "    response = requests.get(pmg_url, headers=headers)\n",
    "    \n",
    "    # Check for a successful response and return BeautifulSoup object\n",
    "    if response.status_code == 200:\n",
    "        return BeautifulSoup(response.text, 'html.parser')\n",
    "    \n",
    "    return None\n"
   ]
  },
  {
   "cell_type": "code",
   "execution_count": 8,
   "metadata": {},
   "outputs": [],
   "source": [
    "pmg_soup = fetch_soup('https://pmg.org.za/question_replies/9', headers)"
   ]
  },
  {
   "cell_type": "code",
   "execution_count": 9,
   "metadata": {},
   "outputs": [],
   "source": [
    "# Helper function to extract text from a single tag\n",
    "def safe_extract(soup, selector, attribute, default=np.nan):\n",
    "    \"\"\"Helper function to extract text from a BeautifulSoup tag safely.\"\"\"\n",
    "    element = soup.find(selector, attribute)\n",
    "    return element.get_text(strip=True) if element else default\n",
    "\n",
    "\n",
    "# Helper function to extract text from multiple <p> tags within a specific div\n",
    "def safe_extract_multiple(soup, parent_selector, parent_attribute, child_selector='p'):\n",
    "    \"\"\"Helper function to extract text from multiple <p> tags safely inside a parent container.\"\"\"\n",
    "    parent_element = soup.find(parent_selector, parent_attribute)\n",
    "    if parent_element:\n",
    "        child_elements = parent_element.find_all(child_selector)\n",
    "        return [element.get_text(strip=True) for element in child_elements]\n",
    "    return []"
   ]
  },
  {
   "cell_type": "code",
   "execution_count": 10,
   "metadata": {},
   "outputs": [
    {
     "name": "stdout",
     "output_type": "stream",
     "text": [
      "Date: 13 September 2024 -CW141\n",
      "\n",
      "Credentials: Ngcobo, Ms ZNto ask the\n",
      "Minister of Police:\n",
      "\n",
      "Question: (1) What mechanisms has the SA Police Service (SAPS) implemented for ongoing monitoring and evaluation of the promotion policy to ensure it meets its objectives and adapts to the constantly changing needs of South Africa (details furnished);\n",
      "(2) whether the system undermines effective management by prioritising rank over qualifications, skills and experience that are needed for different roles; if not, what is the position in this regard; if so, what are the relevant details;\n",
      "(3) how often should the promotion structures be revised to allow properly qualified support staff to progress to management roles within the SAPS, while allowing operational personnel to focus on policing crime?\n",
      "\n",
      "Answer: Find replyhere\n"
     ]
    }
   ],
   "source": [
    "# Extract the required fields\n",
    "pmg_date = safe_extract(pmg_soup, 'h4', {}, default=np.nan)  # Extracts the date and NW552 reference\n",
    "pmg_credentials = safe_extract(pmg_soup, 'h4', {'class': 'media-heading'}, default=np.nan)  # Extract the name and credentials of the person asking\n",
    "# pmg_credentials = safe_extract(pmg_soup, 'h4', {'class': 'media-body'}, default=np.nan)  # Extract the name and credentials of the person asking\n",
    "pm_question = safe_extract(pmg_soup, 'p', {}, default=np.nan)  # Extract the question text\n",
    "\n",
    "# Extract the content from all <p> tags within the specific 'committee-question-reply' div\n",
    "pmg_answer_paragraphs = safe_extract_multiple(pmg_soup, 'div', {'class': 'committee-question-reply'})\n",
    "\n",
    "# Join paragraphs into one string for better readability\n",
    "pmg_answer = \" \".join(pmg_answer_paragraphs)\n",
    "\n",
    "\n",
    "\n",
    "# Output the extracted values\n",
    "print(\"Date:\", pmg_date)\n",
    "print(\"\\nCredentials:\", pmg_credentials)\n",
    "print(\"\\nQuestion:\", pm_question)\n",
    "print(\"\\nAnswer:\", pmg_answer)"
   ]
  },
  {
   "cell_type": "code",
   "execution_count": 11,
   "metadata": {},
   "outputs": [],
   "source": [
    "def get_pmg_content(pmg_soup):\n",
    "\n",
    "\n",
    "    # Extract the required fields from 'committee-question-detail'\n",
    "    pmg_date = safe_extract(pmg_soup, 'h4', {}, default=np.nan)  # Extract the date and NW552 reference from the <h4> tag\n",
    "    \n",
    "    # pmg_credentials = safe_extract(pmg_soup, 'div', {'class': 'media-body'}, default=np.nan)  # Extract name and credentials of the person asking from 'media-body' class\n",
    "    pmg_credentials = safe_extract(pmg_soup, 'h4', {'class': 'media-heading'}, default=np.nan)\n",
    "\n",
    "    pm_question = safe_extract(pmg_soup, 'p', {}, default=np.nan)  # Extract the question from the first <p> tag in the 'committee-question-detail' div\n",
    "    # Extract the content from all <p> tags within the 'committee-question-reply' div\n",
    "    pmg_answer_paragraphs = safe_extract_multiple(pmg_soup, 'div', {'class': 'committee-question-reply'})\n",
    "\n",
    "    # Join paragraphs into one string for better readability\n",
    "    pmg_answer = \" \".join(pmg_answer_paragraphs)\n",
    "\n",
    "    return pmg_date, pmg_credentials, pm_question, pmg_answer"
   ]
  },
  {
   "cell_type": "code",
   "execution_count": 12,
   "metadata": {},
   "outputs": [],
   "source": [
    "\n",
    "def get_all_pmg_content(pages=5, headers=headers, verbose=False):\n",
    "    columns = ['date', 'mp', 'question', 'answer']\n",
    "    data = []\n",
    "    done = 0\n",
    "    base_url = 'https://pmg.org.za/question_replies/'\n",
    "\n",
    "    start = time.time()\n",
    "    \n",
    "    for page in range(1, pages):\n",
    "        \n",
    "        soup = fetch_soup(f'{base_url}{page}', headers)\n",
    "        \n",
    "        if soup:\n",
    "            pages_stat = list(get_pmg_content(soup))\n",
    "            # data.append([page] + pages_stat)\n",
    "            data.append(pages_stat)\n",
    "        else:\n",
    "            # data.append([page] + [np.nan] * 4)\n",
    "            data.append([np.nan] * 4)\n",
    "        \n",
    "        if verbose:\n",
    "            done += 1\n",
    "            print(f'Done with {done} pages. {pages - done} left. Elapsed time: {(time.time() - start):.1f} seconds')\n",
    "        \n",
    "        time.sleep(1)  # To avoid overwhelming the server\n",
    "    \n",
    "    return pd.DataFrame(data, columns=columns)\n",
    "                  \n"
   ]
  },
  {
   "cell_type": "code",
   "execution_count": 13,
   "metadata": {},
   "outputs": [],
   "source": [
    "\n",
    "def get_all_pmg_content(pages=5, headers=None, verbose=False):\n",
    "    columns = ['date', 'mp', 'question', 'answer']\n",
    "    data = []\n",
    "    done = 0\n",
    "    base_url = 'https://pmg.org.za/question_replies/'\n",
    "\n",
    "    start = time.time()\n",
    "\n",
    "    # Step 1: Scrape the base page first (without page number)\n",
    "    soup = fetch_soup(base_url, headers)\n",
    "    if soup:\n",
    "        # Find all 'committee-question-detail' elements on the base page\n",
    "        question_details = soup.select('article > section .committee-question-detail')\n",
    "        \n",
    "        # For each 'committee-question-detail' element, scrape the content\n",
    "        for detail in question_details:\n",
    "            content = get_pmg_content(detail)  # Extract the content for each detail\n",
    "            data.append(content)  # Append the extracted content to the data list\n",
    "    else:\n",
    "        # If no content is found on the base page, append NaNs\n",
    "        data.append([np.nan] * 4)\n",
    "\n",
    "    # Step 2: Loop through additional pages (1, 2, ..., n)\n",
    "    for page in range(1, pages + 1):  # Loop through specified numbered pages\n",
    "        soup = fetch_soup(f'{base_url}{page}', headers)  # Fetch soup for each numbered page\n",
    "\n",
    "        if soup:\n",
    "            # Find all 'committee-question-detail' elements on the numbered pages\n",
    "            question_details = soup.select('article > section .committee-question-detail')\n",
    "            \n",
    "            # For each 'committee-question-detail' element, scrape the content\n",
    "            for detail in question_details:\n",
    "                content = get_pmg_content(detail)  # Extract the content for each detail\n",
    "                data.append(content)  # Append the extracted content to the data list\n",
    "        else:\n",
    "            # If no content is found, append NaNs to maintain consistent rows\n",
    "            data.append([np.nan] * 4)\n",
    "\n",
    "        # Print verbose progress\n",
    "        if verbose:\n",
    "            done += 1\n",
    "            print(f'Done with {done} pages. {pages - done} left. Elapsed time: {(time.time() - start):.1f} seconds')\n",
    "\n",
    "        time.sleep(1)  # Pause to avoid overwhelming the server\n",
    "\n",
    "    # Return the scraped data as a DataFrame\n",
    "    return pd.DataFrame(data, columns=columns)\n"
   ]
  },
  {
   "cell_type": "code",
   "execution_count": 15,
   "metadata": {},
   "outputs": [
    {
     "name": "stdout",
     "output_type": "stream",
     "text": [
      "Done with 1 pages. 4 left. Elapsed time: 1.2 seconds\n",
      "Done with 2 pages. 3 left. Elapsed time: 3.0 seconds\n",
      "Done with 3 pages. 2 left. Elapsed time: 5.2 seconds\n",
      "Done with 4 pages. 1 left. Elapsed time: 6.9 seconds\n",
      "Done with 5 pages. 0 left. Elapsed time: 8.5 seconds\n"
     ]
    }
   ],
   "source": [
    "_sample_pmg = get_all_pmg_content(pages=5, headers=headers, verbose=1)"
   ]
  },
  {
   "cell_type": "code",
   "execution_count": 16,
   "metadata": {},
   "outputs": [
    {
     "data": {
      "text/html": [
       "<div>\n",
       "<style scoped>\n",
       "    .dataframe tbody tr th:only-of-type {\n",
       "        vertical-align: middle;\n",
       "    }\n",
       "\n",
       "    .dataframe tbody tr th {\n",
       "        vertical-align: top;\n",
       "    }\n",
       "\n",
       "    .dataframe thead th {\n",
       "        text-align: right;\n",
       "    }\n",
       "</style>\n",
       "<table border=\"1\" class=\"dataframe\">\n",
       "  <thead>\n",
       "    <tr style=\"text-align: right;\">\n",
       "      <th></th>\n",
       "      <th>date</th>\n",
       "      <th>mp</th>\n",
       "      <th>question</th>\n",
       "      <th>answer</th>\n",
       "    </tr>\n",
       "  </thead>\n",
       "  <tbody>\n",
       "    <tr>\n",
       "      <th>0</th>\n",
       "      <td>09 October 2024 -NW177</td>\n",
       "      <td>Pambo, Mr Vto ask the\\nMinister in the Presidency</td>\n",
       "      <td>What (a) total number of members of the State ...</td>\n",
       "      <td>The Agency has one member and two accomplices ...</td>\n",
       "    </tr>\n",
       "    <tr>\n",
       "      <th>1</th>\n",
       "      <td>09 October 2024 -NW12</td>\n",
       "      <td>Myburgh, Mr NGto ask the\\nMinister in the Pres...</td>\n",
       "      <td>Whether, in the wake of alleged widespread abu...</td>\n",
       "      <td>The State Security Agency as the country’s civ...</td>\n",
       "    </tr>\n",
       "    <tr>\n",
       "      <th>2</th>\n",
       "      <td>09 October 2024 -NW978</td>\n",
       "      <td>Madlala, Mr KBto ask the\\nMinister of Water an...</td>\n",
       "      <td>Noting that her department is one of the most ...</td>\n",
       "      <td>The Department has a responsibility to ensure ...</td>\n",
       "    </tr>\n",
       "    <tr>\n",
       "      <th>3</th>\n",
       "      <td>09 October 2024 -NW612</td>\n",
       "      <td>Bodlani, Ms Tto ask the\\nMinister in the Presi...</td>\n",
       "      <td>What (a) total amount in costs did the Governm...</td>\n",
       "      <td>R3 496 673,08; REPLY (b): The budget line item...</td>\n",
       "    </tr>\n",
       "    <tr>\n",
       "      <th>4</th>\n",
       "      <td>09 October 2024 -NO10</td>\n",
       "      <td>Mathafa, Mr OMto ask the\\nMinister of Justice ...</td>\n",
       "      <td>Considering that incidents of racism amongst y...</td>\n",
       "      <td></td>\n",
       "    </tr>\n",
       "  </tbody>\n",
       "</table>\n",
       "</div>"
      ],
      "text/plain": [
       "                     date                                                 mp  \\\n",
       "0  09 October 2024 -NW177  Pambo, Mr Vto ask the\\nMinister in the Presidency   \n",
       "1   09 October 2024 -NW12  Myburgh, Mr NGto ask the\\nMinister in the Pres...   \n",
       "2  09 October 2024 -NW978  Madlala, Mr KBto ask the\\nMinister of Water an...   \n",
       "3  09 October 2024 -NW612  Bodlani, Ms Tto ask the\\nMinister in the Presi...   \n",
       "4   09 October 2024 -NO10  Mathafa, Mr OMto ask the\\nMinister of Justice ...   \n",
       "\n",
       "                                            question  \\\n",
       "0  What (a) total number of members of the State ...   \n",
       "1  Whether, in the wake of alleged widespread abu...   \n",
       "2  Noting that her department is one of the most ...   \n",
       "3  What (a) total amount in costs did the Governm...   \n",
       "4  Considering that incidents of racism amongst y...   \n",
       "\n",
       "                                              answer  \n",
       "0  The Agency has one member and two accomplices ...  \n",
       "1  The State Security Agency as the country’s civ...  \n",
       "2  The Department has a responsibility to ensure ...  \n",
       "3  R3 496 673,08; REPLY (b): The budget line item...  \n",
       "4                                                     "
      ]
     },
     "execution_count": 16,
     "metadata": {},
     "output_type": "execute_result"
    }
   ],
   "source": [
    "_sample_pmg.head()"
   ]
  },
  {
   "cell_type": "code",
   "execution_count": 17,
   "metadata": {},
   "outputs": [
    {
     "data": {
      "text/plain": [
       "'Myburgh, Mr NGto ask the\\nMinister in the Presidency'"
      ]
     },
     "execution_count": 17,
     "metadata": {},
     "output_type": "execute_result"
    }
   ],
   "source": [
    "_sample_pmg['mp'][1]"
   ]
  },
  {
   "cell_type": "code",
   "execution_count": 18,
   "metadata": {},
   "outputs": [
    {
     "data": {
      "text/html": [
       "<div>\n",
       "<style scoped>\n",
       "    .dataframe tbody tr th:only-of-type {\n",
       "        vertical-align: middle;\n",
       "    }\n",
       "\n",
       "    .dataframe tbody tr th {\n",
       "        vertical-align: top;\n",
       "    }\n",
       "\n",
       "    .dataframe thead th {\n",
       "        text-align: right;\n",
       "    }\n",
       "</style>\n",
       "<table border=\"1\" class=\"dataframe\">\n",
       "  <thead>\n",
       "    <tr style=\"text-align: right;\">\n",
       "      <th></th>\n",
       "      <th>date</th>\n",
       "      <th>mp</th>\n",
       "      <th>question</th>\n",
       "      <th>answer</th>\n",
       "      <th>responder</th>\n",
       "    </tr>\n",
       "  </thead>\n",
       "  <tbody>\n",
       "    <tr>\n",
       "      <th>0</th>\n",
       "      <td>2024-10-09</td>\n",
       "      <td>Pambo, Mr V</td>\n",
       "      <td>What (a) total number of members of the State ...</td>\n",
       "      <td>The Agency has one member and two accomplices ...</td>\n",
       "      <td>Minister in the Presidency</td>\n",
       "    </tr>\n",
       "    <tr>\n",
       "      <th>1</th>\n",
       "      <td>2024-10-09</td>\n",
       "      <td>Myburgh, Mr NG</td>\n",
       "      <td>Whether, in the wake of alleged widespread abu...</td>\n",
       "      <td>The State Security Agency as the country’s civ...</td>\n",
       "      <td>Minister in the Presidency</td>\n",
       "    </tr>\n",
       "    <tr>\n",
       "      <th>2</th>\n",
       "      <td>2024-10-09</td>\n",
       "      <td>Madlala, Mr KB</td>\n",
       "      <td>Noting that her department is one of the most ...</td>\n",
       "      <td>The Department has a responsibility to ensure ...</td>\n",
       "      <td>Minister of Water and Sanitation</td>\n",
       "    </tr>\n",
       "    <tr>\n",
       "      <th>3</th>\n",
       "      <td>2024-10-09</td>\n",
       "      <td>Bodlani, Ms T</td>\n",
       "      <td>What (a) total amount in costs did the Governm...</td>\n",
       "      <td>R3 496 673,08; REPLY (b): The budget line item...</td>\n",
       "      <td>Minister in the Presidency</td>\n",
       "    </tr>\n",
       "    <tr>\n",
       "      <th>4</th>\n",
       "      <td>2024-10-09</td>\n",
       "      <td>Mathafa, Mr OM</td>\n",
       "      <td>Considering that incidents of racism amongst y...</td>\n",
       "      <td></td>\n",
       "      <td>Minister of Justice and Constitutional Develop...</td>\n",
       "    </tr>\n",
       "  </tbody>\n",
       "</table>\n",
       "</div>"
      ],
      "text/plain": [
       "        date              mp  \\\n",
       "0 2024-10-09     Pambo, Mr V   \n",
       "1 2024-10-09  Myburgh, Mr NG   \n",
       "2 2024-10-09  Madlala, Mr KB   \n",
       "3 2024-10-09   Bodlani, Ms T   \n",
       "4 2024-10-09  Mathafa, Mr OM   \n",
       "\n",
       "                                            question  \\\n",
       "0  What (a) total number of members of the State ...   \n",
       "1  Whether, in the wake of alleged widespread abu...   \n",
       "2  Noting that her department is one of the most ...   \n",
       "3  What (a) total amount in costs did the Governm...   \n",
       "4  Considering that incidents of racism amongst y...   \n",
       "\n",
       "                                              answer  \\\n",
       "0  The Agency has one member and two accomplices ...   \n",
       "1  The State Security Agency as the country’s civ...   \n",
       "2  The Department has a responsibility to ensure ...   \n",
       "3  R3 496 673,08; REPLY (b): The budget line item...   \n",
       "4                                                      \n",
       "\n",
       "                                           responder  \n",
       "0                         Minister in the Presidency  \n",
       "1                         Minister in the Presidency  \n",
       "2                   Minister of Water and Sanitation  \n",
       "3                         Minister in the Presidency  \n",
       "4  Minister of Justice and Constitutional Develop...  "
      ]
     },
     "execution_count": 18,
     "metadata": {},
     "output_type": "execute_result"
    }
   ],
   "source": [
    "# Step 1: Clean up the `date` column to remove anything after the date\n",
    "_sample_pmg['date'] = _sample_pmg['date'].str.extract(r'^([0-9]{2} [A-Za-z]+ [0-9]{4})')\n",
    "# Step 2: Convert the cleaned date column to datetime format\n",
    "_sample_pmg['date'] = pd.to_datetime(_sample_pmg['date'], format='%d %B %Y')\n",
    "# Step 3: Split the 'mp' column using '\\n' and get the first part as 'mp' and last part as 'responder'\n",
    "_sample_pmg['mp'], _sample_pmg['responder'] = _sample_pmg['mp'].str.split('\\n').str[0], _sample_pmg['mp'].str.split('\\n').str[1]\n",
    "# Step 4: Split the 'mp' column using '\\n' and get the first part as 'mp' and last part as 'responder'\n",
    "_sample_pmg['mp'] = _sample_pmg['mp'].str.replace('to ask the', '', regex=False)\n",
    "\n",
    "_sample_pmg.head()"
   ]
  },
  {
   "cell_type": "code",
   "execution_count": 20,
   "metadata": {},
   "outputs": [
    {
     "name": "stdout",
     "output_type": "stream",
     "text": [
      "<class 'pandas.core.frame.DataFrame'>\n",
      "RangeIndex: 300 entries, 0 to 299\n",
      "Data columns (total 5 columns):\n",
      " #   Column     Non-Null Count  Dtype         \n",
      "---  ------     --------------  -----         \n",
      " 0   date       300 non-null    datetime64[ns]\n",
      " 1   mp         300 non-null    object        \n",
      " 2   question   300 non-null    object        \n",
      " 3   answer     300 non-null    object        \n",
      " 4   responder  300 non-null    object        \n",
      "dtypes: datetime64[ns](1), object(4)\n",
      "memory usage: 11.8+ KB\n"
     ]
    }
   ],
   "source": [
    "_sample_pmg.info()"
   ]
  },
  {
   "cell_type": "code",
   "execution_count": 21,
   "metadata": {},
   "outputs": [
    {
     "name": "stdout",
     "output_type": "stream",
     "text": [
      "Data written to parquet successfully.\n"
     ]
    }
   ],
   "source": [
    "# Convert the dictionary into a DataFrame\n",
    "# _2024_films_links_df = pd.DataFrame(list(_2024_films_links.items()), columns=['Title', 'Link'])\n",
    "\n",
    "# Write the DataFrame to a Parquet file with Brotli compression\n",
    "_sample_pmg.to_parquet('_sample_pmg.parquet.brotli', compression='brotli')\n",
    "\n",
    "print(\"Data written to parquet successfully.\")\n"
   ]
  },
  {
   "cell_type": "code",
   "execution_count": null,
   "metadata": {},
   "outputs": [],
   "source": []
  }
 ],
 "metadata": {
  "kernelspec": {
   "display_name": "resume",
   "language": "python",
   "name": "python3"
  },
  "language_info": {
   "codemirror_mode": {
    "name": "ipython",
    "version": 3
   },
   "file_extension": ".py",
   "mimetype": "text/x-python",
   "name": "python",
   "nbconvert_exporter": "python",
   "pygments_lexer": "ipython3",
   "version": "3.12.2"
  }
 },
 "nbformat": 4,
 "nbformat_minor": 2
}
