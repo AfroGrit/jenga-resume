{
 "cells": [
  {
   "cell_type": "code",
   "execution_count": 22,
   "metadata": {},
   "outputs": [],
   "source": [
    "import requests\n",
    "import os\n",
    "import re\n",
    "import json\n",
    "from bs4 import BeautifulSoup\n",
    "import numpy as np\n",
    "import pandas as pd\n",
    "from selenium import webdriver\n",
    "import time\n",
    "import matplotlib.pyplot as plt\n",
    "import urllib\n",
    "%matplotlib inline\n",
    "from datetime import date\n",
    "\n",
    "from selenium import webdriver\n",
    "from selenium.webdriver.common.by import By\n",
    "from selenium.webdriver.chrome.service import Service\n",
    "from selenium.webdriver.support.ui import WebDriverWait\n",
    "from selenium.webdriver.support import expected_conditions as EC\n",
    "\n",
    "from bs4 import BeautifulSoup\n",
    "import time\n"
   ]
  },
  {
   "cell_type": "code",
   "execution_count": 23,
   "metadata": {},
   "outputs": [],
   "source": [
    "\n",
    "# Setup the ChromeDriver with a valid User-Agent\n",
    "options = webdriver.ChromeOptions()\n",
    "options.add_argument('--headless')  # Optional, to run in headless mode\n",
    "options.add_argument('--no-sandbox')\n",
    "options.add_argument('--disable-dev-shm-usage')\n",
    "\n",
    "\n",
    "# Set a valid User-Agent header\n",
    "user_agent = \"Mozilla/5.0 (Windows NT 10.0; Win64; x64) AppleWebKit/537.36 (KHTML, like Gecko) Chrome/58.0.3029.110 Safari/537.3\"\n",
    "options.add_argument(f'user-agent={user_agent}')\n",
    "\n",
    "driver = webdriver.Chrome(options=options)\n",
    "\n",
    "headers = {\n",
    "    'Accept-Language': 'en',\n",
    "    'User-Agent': 'Mozilla/5.0 (Windows NT 10.0; Win64; x64) AppleWebKit/537.36 (KHTML, like Gecko) Chrome/58.0.3029.110 Safari/537.3',\n",
    "    'X-FORWARDED-FOR': '2.21.184.0'\n",
    "}"
   ]
  },
  {
   "cell_type": "code",
   "execution_count": 24,
   "metadata": {},
   "outputs": [],
   "source": [
    "pmg = 'https://pmg.org.za/question_replies/'"
   ]
  },
  {
   "cell_type": "code",
   "execution_count": 25,
   "metadata": {},
   "outputs": [
    {
     "name": "stdout",
     "output_type": "stream",
     "text": [
      "200\n"
     ]
    }
   ],
   "source": [
    "response = requests.get(pmg, headers=headers)\n",
    "print(response.status_code)"
   ]
  },
  {
   "cell_type": "code",
   "execution_count": 26,
   "metadata": {},
   "outputs": [],
   "source": [
    "# pmg_soup = BeautifulSoup(response.text, 'html.parser')"
   ]
  },
  {
   "cell_type": "code",
   "execution_count": null,
   "metadata": {},
   "outputs": [],
   "source": []
  },
  {
   "cell_type": "code",
   "execution_count": 27,
   "metadata": {},
   "outputs": [],
   "source": [
    "# def safe_extract(soup, selector, attribute, default=np.nan):\n",
    "#         \"\"\"Helper function to extract text from a BeautifulSoup tag safely.\"\"\"\n",
    "#         element = soup.find(selector, attribute)\n",
    "#         return element.get_text(strip=True) if element else default\n",
    "\n",
    "\n",
    "# # Helper function to extract text from multiple <p> tags within a specific div\n",
    "# def safe_extract_multiple(soup, parent_selector, parent_attribute, child_selector='p'):\n",
    "#     \"\"\"Helper function to extract text from multiple <p> tags safely inside a parent container.\"\"\"\n",
    "#     parent_element = soup.find(parent_selector, parent_attribute)\n",
    "#     if parent_element:\n",
    "#         child_elements = parent_element.find_all(child_selector)\n",
    "#         return [element.get_text(strip=True) for element in child_elements]\n",
    "#     return []\n",
    "\n"
   ]
  },
  {
   "cell_type": "code",
   "execution_count": null,
   "metadata": {},
   "outputs": [],
   "source": []
  },
  {
   "cell_type": "code",
   "execution_count": 28,
   "metadata": {},
   "outputs": [],
   "source": [
    "def fetch_soup(pmg_url, headers):\n",
    "    \"\"\"\n",
    "    Fetch the content of a URL (base URL + movie link) and return a BeautifulSoup object.\n",
    "\n",
    "    Args:\n",
    "        base_url (str): The base URL (e.g., 'https://www.imdb.com/').\n",
    "        movie_link (str): The relative URL or path to the movie page.\n",
    "        headers (dict): Headers to be used in the HTTP request.\n",
    "\n",
    "    Returns:\n",
    "        BeautifulSoup: Parsed HTML content of the page if successful, else None.\n",
    "    \"\"\"\n",
    "    \n",
    "\n",
    "    # Fetch the page content\n",
    "    response = requests.get(pmg_url, headers=headers)\n",
    "    \n",
    "    # Check for a successful response and return BeautifulSoup object\n",
    "    if response.status_code == 200:\n",
    "        return BeautifulSoup(response.text, 'html.parser')\n",
    "    \n",
    "    return None\n"
   ]
  },
  {
   "cell_type": "code",
   "execution_count": 29,
   "metadata": {},
   "outputs": [],
   "source": [
    "pmg_soup = fetch_soup('https://pmg.org.za/question_replies/9', headers)"
   ]
  },
  {
   "cell_type": "code",
   "execution_count": 30,
   "metadata": {},
   "outputs": [],
   "source": [
    "# Helper function to extract text from a single tag\n",
    "def safe_extract(soup, selector, attribute, default=np.nan):\n",
    "    \"\"\"Helper function to extract text from a BeautifulSoup tag safely.\"\"\"\n",
    "    element = soup.find(selector, attribute)\n",
    "    return element.get_text(strip=True) if element else default\n",
    "\n",
    "\n",
    "# Helper function to extract text from multiple <p> tags within a specific div\n",
    "def safe_extract_multiple(soup, parent_selector, parent_attribute, child_selector='p'):\n",
    "    \"\"\"Helper function to extract text from multiple <p> tags safely inside a parent container.\"\"\"\n",
    "    parent_element = soup.find(parent_selector, parent_attribute)\n",
    "    if parent_element:\n",
    "        child_elements = parent_element.find_all(child_selector)\n",
    "        return [element.get_text(strip=True) for element in child_elements]\n",
    "    return []"
   ]
  },
  {
   "cell_type": "code",
   "execution_count": 31,
   "metadata": {},
   "outputs": [
    {
     "name": "stdout",
     "output_type": "stream",
     "text": [
      "Date: 18 September 2024 -CW103\n",
      "\n",
      "Credentials: Chirwa-Mpungose, Ms NNto ask the\n",
      "Minister of Social Development:\n",
      "\n",
      "Question: (a) What new interventions has her department initiated and planned as the government has failed to address gender-based violence and femicide (details furnished), (b) what has been the fundamental studies to justify such programmes and (c) what impact could research indicate that they are ensuring (i) prevention, (ii) education and (iii) contribution to end violence against women and children?\n",
      "\n",
      "Answer: Find replyhere\n"
     ]
    }
   ],
   "source": [
    "# Extract the required fields\n",
    "pmg_date = safe_extract(pmg_soup, 'h4', {}, default=np.nan)  # Extracts the date and NW552 reference\n",
    "pmg_credentials = safe_extract(pmg_soup, 'h4', {'class': 'media-heading'}, default=np.nan)  # Extract the name and credentials of the person asking\n",
    "# pmg_credentials = safe_extract(pmg_soup, 'h4', {'class': 'media-body'}, default=np.nan)  # Extract the name and credentials of the person asking\n",
    "pm_question = safe_extract(pmg_soup, 'p', {}, default=np.nan)  # Extract the question text\n",
    "\n",
    "# Extract the content from all <p> tags within the specific 'committee-question-reply' div\n",
    "pmg_answer_paragraphs = safe_extract_multiple(pmg_soup, 'div', {'class': 'committee-question-reply'})\n",
    "\n",
    "# Join paragraphs into one string for better readability\n",
    "pmg_answer = \" \".join(pmg_answer_paragraphs)\n",
    "\n",
    "\n",
    "\n",
    "# Output the extracted values\n",
    "print(\"Date:\", pmg_date)\n",
    "print(\"\\nCredentials:\", pmg_credentials)\n",
    "print(\"\\nQuestion:\", pm_question)\n",
    "print(\"\\nAnswer:\", pmg_answer)"
   ]
  },
  {
   "cell_type": "code",
   "execution_count": 32,
   "metadata": {},
   "outputs": [],
   "source": [
    "def get_pmg_content(pmg_soup):\n",
    "\n",
    "\n",
    "    # Extract the required fields from 'committee-question-detail'\n",
    "    pmg_date = safe_extract(pmg_soup, 'h4', {}, default=np.nan)  # Extract the date and NW552 reference from the <h4> tag\n",
    "    \n",
    "    # pmg_credentials = safe_extract(pmg_soup, 'div', {'class': 'media-body'}, default=np.nan)  # Extract name and credentials of the person asking from 'media-body' class\n",
    "    pmg_credentials = safe_extract(pmg_soup, 'h4', {'class': 'media-heading'}, default=np.nan)\n",
    "\n",
    "    pm_question = safe_extract(pmg_soup, 'p', {}, default=np.nan)  # Extract the question from the first <p> tag in the 'committee-question-detail' div\n",
    "    # Extract the content from all <p> tags within the 'committee-question-reply' div\n",
    "    pmg_answer_paragraphs = safe_extract_multiple(pmg_soup, 'div', {'class': 'committee-question-reply'})\n",
    "\n",
    "    # Join paragraphs into one string for better readability\n",
    "    pmg_answer = \" \".join(pmg_answer_paragraphs)\n",
    "\n",
    "    return pmg_date, pmg_credentials, pm_question, pmg_answer"
   ]
  },
  {
   "cell_type": "code",
   "execution_count": 33,
   "metadata": {},
   "outputs": [],
   "source": [
    "\n",
    "def get_all_pmg_content(pages=5, headers=headers, verbose=False):\n",
    "    columns = ['date', 'mp', 'question', 'answer']\n",
    "    data = []\n",
    "    done = 0\n",
    "    base_url = 'https://pmg.org.za/question_replies/'\n",
    "\n",
    "    start = time.time()\n",
    "    \n",
    "    for page in range(1, pages):\n",
    "        \n",
    "        soup = fetch_soup(f'{base_url}{page}', headers)\n",
    "        \n",
    "        if soup:\n",
    "            pages_stat = list(get_pmg_content(soup))\n",
    "            # data.append([page] + pages_stat)\n",
    "            data.append(pages_stat)\n",
    "        else:\n",
    "            # data.append([page] + [np.nan] * 4)\n",
    "            data.append([np.nan] * 4)\n",
    "        \n",
    "        if verbose:\n",
    "            done += 1\n",
    "            print(f'Done with {done} pages. {pages - done} left. Elapsed time: {(time.time() - start):.1f} seconds')\n",
    "        \n",
    "        time.sleep(1)  # To avoid overwhelming the server\n",
    "    \n",
    "    return pd.DataFrame(data, columns=columns)\n",
    "                  \n"
   ]
  },
  {
   "cell_type": "code",
   "execution_count": 34,
   "metadata": {},
   "outputs": [],
   "source": [
    "\n",
    "def get_all_pmg_content(pages=5, headers=None, verbose=False):\n",
    "    columns = ['date', 'mp', 'question', 'answer']\n",
    "    data = []\n",
    "    done = 0\n",
    "    base_url = 'https://pmg.org.za/question_replies/'\n",
    "\n",
    "    start = time.time()\n",
    "\n",
    "    # Step 1: Scrape the base page first (without page number)\n",
    "    soup = fetch_soup(base_url, headers)\n",
    "    if soup:\n",
    "        # Find all 'committee-question-detail' elements on the base page\n",
    "        question_details = soup.select('article > section .committee-question-detail')\n",
    "        \n",
    "        # For each 'committee-question-detail' element, scrape the content\n",
    "        for detail in question_details:\n",
    "            content = get_pmg_content(detail)  # Extract the content for each detail\n",
    "            data.append(content)  # Append the extracted content to the data list\n",
    "    else:\n",
    "        # If no content is found on the base page, append NaNs\n",
    "        data.append([np.nan] * 4)\n",
    "\n",
    "    # Step 2: Loop through additional pages (1, 2, ..., n)\n",
    "    for page in range(1, pages + 1):  # Loop through specified numbered pages\n",
    "        soup = fetch_soup(f'{base_url}{page}', headers)  # Fetch soup for each numbered page\n",
    "\n",
    "        if soup:\n",
    "            # Find all 'committee-question-detail' elements on the numbered pages\n",
    "            question_details = soup.select('article > section .committee-question-detail')\n",
    "            \n",
    "            # For each 'committee-question-detail' element, scrape the content\n",
    "            for detail in question_details:\n",
    "                content = get_pmg_content(detail)  # Extract the content for each detail\n",
    "                data.append(content)  # Append the extracted content to the data list\n",
    "        else:\n",
    "            # If no content is found, append NaNs to maintain consistent rows\n",
    "            data.append([np.nan] * 4)\n",
    "\n",
    "        # Print verbose progress\n",
    "        if verbose:\n",
    "            done += 1\n",
    "            print(f'Done with {done} pages. {pages - done} left. Elapsed time: {(time.time() - start):.1f} seconds')\n",
    "\n",
    "        time.sleep(1)  # Pause to avoid overwhelming the server\n",
    "\n",
    "    # Return the scraped data as a DataFrame\n",
    "    return pd.DataFrame(data, columns=columns)\n"
   ]
  },
  {
   "cell_type": "code",
   "execution_count": 35,
   "metadata": {},
   "outputs": [
    {
     "name": "stdout",
     "output_type": "stream",
     "text": [
      "Done with 1 pages. 4 left. Elapsed time: 3.2 seconds\n",
      "Done with 2 pages. 3 left. Elapsed time: 6.1 seconds\n",
      "Done with 3 pages. 2 left. Elapsed time: 9.3 seconds\n",
      "Done with 4 pages. 1 left. Elapsed time: 11.8 seconds\n",
      "Done with 5 pages. 0 left. Elapsed time: 14.4 seconds\n"
     ]
    }
   ],
   "source": [
    "_sample_raw = get_all_pmg_content(pages=5, headers=headers, verbose=1)"
   ]
  },
  {
   "cell_type": "code",
   "execution_count": 36,
   "metadata": {},
   "outputs": [
    {
     "data": {
      "text/html": [
       "<div>\n",
       "<style scoped>\n",
       "    .dataframe tbody tr th:only-of-type {\n",
       "        vertical-align: middle;\n",
       "    }\n",
       "\n",
       "    .dataframe tbody tr th {\n",
       "        vertical-align: top;\n",
       "    }\n",
       "\n",
       "    .dataframe thead th {\n",
       "        text-align: right;\n",
       "    }\n",
       "</style>\n",
       "<table border=\"1\" class=\"dataframe\">\n",
       "  <thead>\n",
       "    <tr style=\"text-align: right;\">\n",
       "      <th></th>\n",
       "      <th>date</th>\n",
       "      <th>mp</th>\n",
       "      <th>question</th>\n",
       "      <th>answer</th>\n",
       "    </tr>\n",
       "  </thead>\n",
       "  <tbody>\n",
       "    <tr>\n",
       "      <th>0</th>\n",
       "      <td>11 October 2024 -NW801</td>\n",
       "      <td>Bodlani, Ms Tto ask the\\nMinister of Communica...</td>\n",
       "      <td>Whether his department has put any plans in pl...</td>\n",
       "      <td>Find replyhere</td>\n",
       "    </tr>\n",
       "    <tr>\n",
       "      <th>1</th>\n",
       "      <td>11 October 2024 -NW223</td>\n",
       "      <td>Moela, Mr MSto ask the\\nMinister of Police</td>\n",
       "      <td>How will the SA Police Service develop mechani...</td>\n",
       "      <td>The workload of the Detectives is created by a...</td>\n",
       "    </tr>\n",
       "    <tr>\n",
       "      <th>2</th>\n",
       "      <td>11 October 2024 -NW990</td>\n",
       "      <td>Ndlozi, Dr MQto ask the\\nMinister of Finance</td>\n",
       "      <td>What total (a) amount in State incentives, suc...</td>\n",
       "      <td>The automobile industry benefits from the Auto...</td>\n",
       "    </tr>\n",
       "    <tr>\n",
       "      <th>3</th>\n",
       "      <td>11 October 2024 -NW771</td>\n",
       "      <td>Mrara, Mr Mto ask the\\nMinister of Communicati...</td>\n",
       "      <td>(a) What is the long-term strategy of his depa...</td>\n",
       "      <td>I have been advised by the Department as follo...</td>\n",
       "    </tr>\n",
       "    <tr>\n",
       "      <th>4</th>\n",
       "      <td>11 October 2024 -NW909</td>\n",
       "      <td>Mdluli, Mr MMto ask the\\nMinister of Communica...</td>\n",
       "      <td>Since the start of the migration from analogue...</td>\n",
       "      <td>I have been advised by the Department as follo...</td>\n",
       "    </tr>\n",
       "  </tbody>\n",
       "</table>\n",
       "</div>"
      ],
      "text/plain": [
       "                     date                                                 mp  \\\n",
       "0  11 October 2024 -NW801  Bodlani, Ms Tto ask the\\nMinister of Communica...   \n",
       "1  11 October 2024 -NW223         Moela, Mr MSto ask the\\nMinister of Police   \n",
       "2  11 October 2024 -NW990       Ndlozi, Dr MQto ask the\\nMinister of Finance   \n",
       "3  11 October 2024 -NW771  Mrara, Mr Mto ask the\\nMinister of Communicati...   \n",
       "4  11 October 2024 -NW909  Mdluli, Mr MMto ask the\\nMinister of Communica...   \n",
       "\n",
       "                                            question  \\\n",
       "0  Whether his department has put any plans in pl...   \n",
       "1  How will the SA Police Service develop mechani...   \n",
       "2  What total (a) amount in State incentives, suc...   \n",
       "3  (a) What is the long-term strategy of his depa...   \n",
       "4  Since the start of the migration from analogue...   \n",
       "\n",
       "                                              answer  \n",
       "0                                     Find replyhere  \n",
       "1  The workload of the Detectives is created by a...  \n",
       "2  The automobile industry benefits from the Auto...  \n",
       "3  I have been advised by the Department as follo...  \n",
       "4  I have been advised by the Department as follo...  "
      ]
     },
     "execution_count": 36,
     "metadata": {},
     "output_type": "execute_result"
    }
   ],
   "source": [
    "\n",
    "_sample_clean = _sample_raw.copy()\n",
    "_sample_clean.head()"
   ]
  },
  {
   "cell_type": "code",
   "execution_count": 37,
   "metadata": {},
   "outputs": [
    {
     "name": "stdout",
     "output_type": "stream",
     "text": [
      "          date                   mp  \\\n",
      "0   2024-10-11        Bodlani, Ms T   \n",
      "1   2024-10-11         Moela, Mr MS   \n",
      "2   2024-10-11        Ndlozi, Dr MQ   \n",
      "3   2024-10-11          Mrara, Mr M   \n",
      "4   2024-10-11        Mdluli, Mr MM   \n",
      "..         ...                  ...   \n",
      "295 2024-09-27         Blose, Mr MB   \n",
      "296 2024-09-27   Mente-Nkuna, Ms NV   \n",
      "297 2024-09-27         Mathys, Ms L   \n",
      "298 2024-09-27  Schickerling, Ms LM   \n",
      "299 2024-09-27         Mogale, Mr T   \n",
      "\n",
      "                                              question  \\\n",
      "0    Whether his department has put any plans in pl...   \n",
      "1    How will the SA Police Service develop mechani...   \n",
      "2    What total (a) amount in State incentives, suc...   \n",
      "3    (a) What is the long-term strategy of his depa...   \n",
      "4    Since the start of the migration from analogue...   \n",
      "..                                                 ...   \n",
      "295  (a) What (i) is the reason that a tender of R9...   \n",
      "296  What are the reasons that (a) no statutory rap...   \n",
      "297  What was the role of the Government Communicat...   \n",
      "298  (1) What is the total number of (a) fatalities...   \n",
      "299  What (a) urgent steps of intervention have bee...   \n",
      "\n",
      "                                                answer     id  \\\n",
      "0                                       Find replyhere  NW801   \n",
      "1    The workload of the Detectives is created by a...  NW223   \n",
      "2    The automobile industry benefits from the Auto...  NW990   \n",
      "3    I have been advised by the Department as follo...  NW771   \n",
      "4    I have been advised by the Department as follo...  NW909   \n",
      "..                                                 ...    ...   \n",
      "295                                     Find replyhere  NW884   \n",
      "296  (a)(b)(i)(ii) The Criminal Law (Sexual Offence...  NW645   \n",
      "297  GCIS is not responsible for the arrangement of...  NW603   \n",
      "298  (1)(a) There have been 334 fatalities in taxi-...  NW499   \n",
      "299  An integrated Crime Combating Team, comprising...  NW863   \n",
      "\n",
      "                                             responder  \n",
      "0    Minister of Communications and Digital Technol...  \n",
      "1                                   Minister of Police  \n",
      "2                                  Minister of Finance  \n",
      "3    Minister of Communications and Digital Technol...  \n",
      "4    Minister of Communications and Digital Technol...  \n",
      "..                                                 ...  \n",
      "295                              Minister of Transport  \n",
      "296                                 Minister of Police  \n",
      "297                         Minister in The Presidency  \n",
      "298                                 Minister of Police  \n",
      "299                                 Minister of Police  \n",
      "\n",
      "[300 rows x 6 columns]\n"
     ]
    }
   ],
   "source": [
    "# Step 1: Extract the ID from the original 'date' column (before converting to datetime)\n",
    "_sample_clean['id'] = _sample_clean['date'].str.extract(r'-([A-Z0-9]+)')\n",
    "\n",
    "# Step 2: Clean up the `date` column to remove anything after the date\n",
    "_sample_clean['date'] = _sample_clean['date'].str.extract(r'^([0-9]{2} [A-Za-z]+ [0-9]{4})')\n",
    "\n",
    "# Step 3: Convert the cleaned date column to datetime format\n",
    "_sample_clean['date'] = pd.to_datetime(_sample_clean['date'], format='%d %B %Y')\n",
    "\n",
    "# Step 4: Split the 'mp' column using '\\n' and get the first part as 'mp' and last part as 'responder'\n",
    "_sample_clean['mp'], _sample_clean['responder'] = _sample_clean['mp'].str.split('\\n').str[0], _sample_clean['mp'].str.split('\\n').str[1]\n",
    "\n",
    "# Step 5: Clean up the 'mp' column by removing 'to ask the'\n",
    "_sample_clean['mp'] = _sample_clean['mp'].str.replace('to ask the', '', regex=False)\n",
    "\n"
   ]
  },
  {
   "cell_type": "code",
   "execution_count": null,
   "metadata": {},
   "outputs": [],
   "source": []
  },
  {
   "cell_type": "code",
   "execution_count": 38,
   "metadata": {},
   "outputs": [
    {
     "data": {
      "text/plain": [
       "'Moela, Mr MS'"
      ]
     },
     "execution_count": 38,
     "metadata": {},
     "output_type": "execute_result"
    }
   ],
   "source": [
    "_sample_clean['mp'][1]"
   ]
  },
  {
   "cell_type": "code",
   "execution_count": 39,
   "metadata": {},
   "outputs": [
    {
     "data": {
      "text/html": [
       "<div>\n",
       "<style scoped>\n",
       "    .dataframe tbody tr th:only-of-type {\n",
       "        vertical-align: middle;\n",
       "    }\n",
       "\n",
       "    .dataframe tbody tr th {\n",
       "        vertical-align: top;\n",
       "    }\n",
       "\n",
       "    .dataframe thead th {\n",
       "        text-align: right;\n",
       "    }\n",
       "</style>\n",
       "<table border=\"1\" class=\"dataframe\">\n",
       "  <thead>\n",
       "    <tr style=\"text-align: right;\">\n",
       "      <th></th>\n",
       "      <th>date</th>\n",
       "      <th>mp</th>\n",
       "      <th>question</th>\n",
       "      <th>answer</th>\n",
       "      <th>id</th>\n",
       "      <th>responder</th>\n",
       "    </tr>\n",
       "  </thead>\n",
       "  <tbody>\n",
       "    <tr>\n",
       "      <th>0</th>\n",
       "      <td>2024-10-11</td>\n",
       "      <td>Bodlani, Ms T</td>\n",
       "      <td>Whether his department has put any plans in pl...</td>\n",
       "      <td>Find replyhere</td>\n",
       "      <td>NW801</td>\n",
       "      <td>Minister of Communications and Digital Technol...</td>\n",
       "    </tr>\n",
       "    <tr>\n",
       "      <th>1</th>\n",
       "      <td>2024-10-11</td>\n",
       "      <td>Moela, Mr MS</td>\n",
       "      <td>How will the SA Police Service develop mechani...</td>\n",
       "      <td>The workload of the Detectives is created by a...</td>\n",
       "      <td>NW223</td>\n",
       "      <td>Minister of Police</td>\n",
       "    </tr>\n",
       "    <tr>\n",
       "      <th>2</th>\n",
       "      <td>2024-10-11</td>\n",
       "      <td>Ndlozi, Dr MQ</td>\n",
       "      <td>What total (a) amount in State incentives, suc...</td>\n",
       "      <td>The automobile industry benefits from the Auto...</td>\n",
       "      <td>NW990</td>\n",
       "      <td>Minister of Finance</td>\n",
       "    </tr>\n",
       "    <tr>\n",
       "      <th>3</th>\n",
       "      <td>2024-10-11</td>\n",
       "      <td>Mrara, Mr M</td>\n",
       "      <td>(a) What is the long-term strategy of his depa...</td>\n",
       "      <td>I have been advised by the Department as follo...</td>\n",
       "      <td>NW771</td>\n",
       "      <td>Minister of Communications and Digital Technol...</td>\n",
       "    </tr>\n",
       "    <tr>\n",
       "      <th>4</th>\n",
       "      <td>2024-10-11</td>\n",
       "      <td>Mdluli, Mr MM</td>\n",
       "      <td>Since the start of the migration from analogue...</td>\n",
       "      <td>I have been advised by the Department as follo...</td>\n",
       "      <td>NW909</td>\n",
       "      <td>Minister of Communications and Digital Technol...</td>\n",
       "    </tr>\n",
       "  </tbody>\n",
       "</table>\n",
       "</div>"
      ],
      "text/plain": [
       "        date             mp  \\\n",
       "0 2024-10-11  Bodlani, Ms T   \n",
       "1 2024-10-11   Moela, Mr MS   \n",
       "2 2024-10-11  Ndlozi, Dr MQ   \n",
       "3 2024-10-11    Mrara, Mr M   \n",
       "4 2024-10-11  Mdluli, Mr MM   \n",
       "\n",
       "                                            question  \\\n",
       "0  Whether his department has put any plans in pl...   \n",
       "1  How will the SA Police Service develop mechani...   \n",
       "2  What total (a) amount in State incentives, suc...   \n",
       "3  (a) What is the long-term strategy of his depa...   \n",
       "4  Since the start of the migration from analogue...   \n",
       "\n",
       "                                              answer     id  \\\n",
       "0                                     Find replyhere  NW801   \n",
       "1  The workload of the Detectives is created by a...  NW223   \n",
       "2  The automobile industry benefits from the Auto...  NW990   \n",
       "3  I have been advised by the Department as follo...  NW771   \n",
       "4  I have been advised by the Department as follo...  NW909   \n",
       "\n",
       "                                           responder  \n",
       "0  Minister of Communications and Digital Technol...  \n",
       "1                                 Minister of Police  \n",
       "2                                Minister of Finance  \n",
       "3  Minister of Communications and Digital Technol...  \n",
       "4  Minister of Communications and Digital Technol...  "
      ]
     },
     "execution_count": 39,
     "metadata": {},
     "output_type": "execute_result"
    }
   ],
   "source": [
    "# Display the cleaned DataFrame\n",
    "_sample_clean.head()\n"
   ]
  },
  {
   "cell_type": "code",
   "execution_count": 40,
   "metadata": {},
   "outputs": [
    {
     "name": "stdout",
     "output_type": "stream",
     "text": [
      "<class 'pandas.core.frame.DataFrame'>\n",
      "RangeIndex: 300 entries, 0 to 299\n",
      "Data columns (total 6 columns):\n",
      " #   Column     Non-Null Count  Dtype         \n",
      "---  ------     --------------  -----         \n",
      " 0   date       300 non-null    datetime64[ns]\n",
      " 1   mp         300 non-null    object        \n",
      " 2   question   300 non-null    object        \n",
      " 3   answer     300 non-null    object        \n",
      " 4   id         300 non-null    object        \n",
      " 5   responder  300 non-null    object        \n",
      "dtypes: datetime64[ns](1), object(5)\n",
      "memory usage: 14.2+ KB\n"
     ]
    }
   ],
   "source": [
    "_sample_clean.info()"
   ]
  },
  {
   "cell_type": "code",
   "execution_count": 41,
   "metadata": {},
   "outputs": [
    {
     "name": "stdout",
     "output_type": "stream",
     "text": [
      "Data written to parquet successfully.\n"
     ]
    }
   ],
   "source": [
    "# Convert the dictionary into a DataFrame\n",
    "# _2024_films_links_df = pd.DataFrame(list(_2024_films_links.items()), columns=['Title', 'Link'])\n",
    "\n",
    "# Write the DataFrame to a Parquet file with Brotli compression\n",
    "_sample_clean.to_parquet('_sample_clean.parquet.brotli', compression='brotli')\n",
    "\n",
    "print(\"Data written to parquet successfully.\")\n"
   ]
  },
  {
   "cell_type": "code",
   "execution_count": null,
   "metadata": {},
   "outputs": [],
   "source": []
  }
 ],
 "metadata": {
  "kernelspec": {
   "display_name": "resume",
   "language": "python",
   "name": "python3"
  },
  "language_info": {
   "codemirror_mode": {
    "name": "ipython",
    "version": 3
   },
   "file_extension": ".py",
   "mimetype": "text/x-python",
   "name": "python",
   "nbconvert_exporter": "python",
   "pygments_lexer": "ipython3",
   "version": "3.12.2"
  }
 },
 "nbformat": 4,
 "nbformat_minor": 2
}
