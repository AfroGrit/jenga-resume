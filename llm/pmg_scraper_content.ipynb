{
 "cells": [
  {
   "cell_type": "code",
   "execution_count": 1,
   "metadata": {},
   "outputs": [],
   "source": [
    "import requests\n",
    "import os\n",
    "import re\n",
    "import json\n",
    "from bs4 import BeautifulSoup\n",
    "import numpy as np\n",
    "import pandas as pd\n",
    "from selenium import webdriver\n",
    "import time\n",
    "import matplotlib.pyplot as plt\n",
    "import urllib\n",
    "%matplotlib inline\n",
    "from datetime import date\n",
    "\n",
    "from selenium import webdriver\n",
    "from selenium.webdriver.common.by import By\n",
    "from selenium.webdriver.chrome.service import Service\n",
    "from selenium.webdriver.support.ui import WebDriverWait\n",
    "from selenium.webdriver.support import expected_conditions as EC\n",
    "\n",
    "from bs4 import BeautifulSoup\n",
    "import time\n"
   ]
  },
  {
   "cell_type": "code",
   "execution_count": 2,
   "metadata": {},
   "outputs": [],
   "source": [
    "\n",
    "# Setup the ChromeDriver with a valid User-Agent\n",
    "options = webdriver.ChromeOptions()\n",
    "options.add_argument('--headless')  # Optional, to run in headless mode\n",
    "options.add_argument('--no-sandbox')\n",
    "options.add_argument('--disable-dev-shm-usage')\n",
    "\n",
    "\n",
    "# Set a valid User-Agent header\n",
    "user_agent = \"Mozilla/5.0 (Windows NT 10.0; Win64; x64) AppleWebKit/537.36 (KHTML, like Gecko) Chrome/58.0.3029.110 Safari/537.3\"\n",
    "options.add_argument(f'user-agent={user_agent}')\n",
    "\n",
    "driver = webdriver.Chrome(options=options)\n",
    "\n",
    "headers = {\n",
    "    'Accept-Language': 'en',\n",
    "    'User-Agent': 'Mozilla/5.0 (Windows NT 10.0; Win64; x64) AppleWebKit/537.36 (KHTML, like Gecko) Chrome/58.0.3029.110 Safari/537.3',\n",
    "    'X-FORWARDED-FOR': '2.21.184.0'\n",
    "}"
   ]
  },
  {
   "cell_type": "code",
   "execution_count": 36,
   "metadata": {},
   "outputs": [],
   "source": [
    "pmg = 'https://pmg.org.za/question_replies/'"
   ]
  },
  {
   "cell_type": "code",
   "execution_count": 37,
   "metadata": {},
   "outputs": [
    {
     "name": "stdout",
     "output_type": "stream",
     "text": [
      "200\n"
     ]
    }
   ],
   "source": [
    "response = requests.get(pmg, headers=headers)\n",
    "print(response.status_code)"
   ]
  },
  {
   "cell_type": "code",
   "execution_count": 38,
   "metadata": {},
   "outputs": [],
   "source": [
    "pmg_soup = BeautifulSoup(response.text, 'html.parser')"
   ]
  },
  {
   "cell_type": "code",
   "execution_count": 39,
   "metadata": {},
   "outputs": [],
   "source": [
    "def safe_extract(soup, selector, attribute, default=np.nan):\n",
    "        \"\"\"Helper function to extract text from a BeautifulSoup tag safely.\"\"\"\n",
    "        element = soup.find(selector, attribute)\n",
    "        return element.get_text(strip=True) if element else default\n",
    "\n",
    "\n",
    "# Helper function to extract text from multiple <p> tags within a specific div\n",
    "def safe_extract_multiple(soup, parent_selector, parent_attribute, child_selector='p'):\n",
    "    \"\"\"Helper function to extract text from multiple <p> tags safely inside a parent container.\"\"\"\n",
    "    parent_element = soup.find(parent_selector, parent_attribute)\n",
    "    if parent_element:\n",
    "        child_elements = parent_element.find_all(child_selector)\n",
    "        return [element.get_text(strip=True) for element in child_elements]\n",
    "    return []\n",
    "\n"
   ]
  },
  {
   "cell_type": "code",
   "execution_count": 40,
   "metadata": {},
   "outputs": [
    {
     "name": "stdout",
     "output_type": "stream",
     "text": [
      "Date: 04 October 2024 -NW1024\n",
      "Credentials: Tetyana, Mr Yto ask the\n",
      "Minister of Tourism\n",
      "Question: What (a) urgent steps have been taken to revive (i) rural and (ii) township tourism in the Republic and (b) key (i) strategies and (ii) initiatives are in place that will be implemented to support and promote tourism in the specified areas?\n",
      "Answer: (a)(i) and (ii) What urgent steps have been taken to revive (i) rural tourism and (ii) and township tourism in the Republic (b) What key (i) strategies are in place that will be implemented to support and promote tourism in the specified areas? The strategy involves increasing geographic spread of visitors, the diversification of products and inclusive participation by communities. (b) What (ii) initiatives are in place that will be implemented to support and promote tourism in the specified areas? I am further informed by South African Tourism that In support of the rural and township areas, they have implemented the following programmes: The National Association Project is a key initiative undertaken by the SANCB to spread the regional distribution of business events to Villages, Townships and Small Dorpies (VTSD) across SA. The project aims to achieve the following outputs: – spreading the economic impact of local meetings and seminars to villages, towns and small dorpies (VTSDs); The Basic Qualification Verification (BQV) Programme, implemented by the TGCSA focuses specifically on support for homestays and other emerging tourism products in Villages, Townships, and Small Dorpies (VTSDs). ENDS\n"
     ]
    }
   ],
   "source": [
    "# Extract the required fields\n",
    "pmg_date = safe_extract(pmg_soup, 'h4', {}, default=np.nan)  # Extracts the date and NW552 reference\n",
    "pmg_credentials = safe_extract(pmg_soup, 'h4', {'class': 'media-heading'}, default=np.nan)  # Extract the name and credentials of the person asking\n",
    "pm_question = safe_extract(pmg_soup, 'p', {}, default=np.nan)  # Extract the question text\n",
    "\n",
    "# Extract the content from all <p> tags within the specific 'committee-question-reply' div\n",
    "pmg_answer_paragraphs = safe_extract_multiple(pmg_soup, 'div', {'class': 'committee-question-reply'})\n",
    "\n",
    "# Join paragraphs into one string for better readability\n",
    "pmg_answer = \" \".join(pmg_answer_paragraphs)\n",
    "\n",
    "\n",
    "\n",
    "# Output the extracted values\n",
    "print(\"Date:\", pmg_date)\n",
    "print(\"Credentials:\", pmg_credentials)\n",
    "print(\"Question:\", pm_question)\n",
    "print(\"Answer:\", pmg_answer)"
   ]
  },
  {
   "cell_type": "code",
   "execution_count": null,
   "metadata": {},
   "outputs": [],
   "source": []
  }
 ],
 "metadata": {
  "kernelspec": {
   "display_name": "datasci",
   "language": "python",
   "name": "python3"
  },
  "language_info": {
   "codemirror_mode": {
    "name": "ipython",
    "version": 3
   },
   "file_extension": ".py",
   "mimetype": "text/x-python",
   "name": "python",
   "nbconvert_exporter": "python",
   "pygments_lexer": "ipython3",
   "version": "3.12.5"
  }
 },
 "nbformat": 4,
 "nbformat_minor": 2
}
